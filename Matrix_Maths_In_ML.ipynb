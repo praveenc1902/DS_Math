{
 "cells": [
  {
   "cell_type": "markdown",
   "id": "87abae3e",
   "metadata": {},
   "source": [
    "-- matrix cab be m*n size (rows*columns)\n",
    "\n",
    "*different types of matrix\n",
    "- null matrix  -- all rows and columns are ZERO\n",
    "\n",
    "[0,0\n",
    "\n",
    "0,0]\n",
    "\n",
    "[0,0,0\n",
    "\n",
    "0,0,0]\n",
    "\n",
    "- identity matrix  -- All diagonal elements are 1 and remaining are 0\n",
    "\n",
    "[1,0\n",
    "\n",
    "0,1]\n",
    "\n",
    "[1,0,0\n",
    "\n",
    "0,1,0\n",
    "\n",
    "0,0,1]\n",
    "\n",
    "- transpose of matrix -- is formed by turning the rows into columns and viceversa\n",
    "[2,5\n",
    "\n",
    "4,8]\n",
    "\n",
    "to \n",
    "\n",
    "[2,4\n",
    "\n",
    "5,8]\n"
   ]
  },
  {
   "cell_type": "code",
   "execution_count": 1,
   "id": "039f5f05",
   "metadata": {},
   "outputs": [],
   "source": [
    "import numpy as np"
   ]
  },
  {
   "cell_type": "code",
   "execution_count": 2,
   "id": "e37aa18a",
   "metadata": {},
   "outputs": [],
   "source": [
    "a = np.array([[2,3],[6,7]])"
   ]
  },
  {
   "cell_type": "code",
   "execution_count": 3,
   "id": "ef8b63fa",
   "metadata": {},
   "outputs": [
    {
     "data": {
      "text/plain": [
       "array([[2, 3],\n",
       "       [6, 7]])"
      ]
     },
     "execution_count": 3,
     "metadata": {},
     "output_type": "execute_result"
    }
   ],
   "source": [
    "a"
   ]
  },
  {
   "cell_type": "code",
   "execution_count": 4,
   "id": "65b7f9d6",
   "metadata": {},
   "outputs": [
    {
     "data": {
      "text/plain": [
       "(2, 2)"
      ]
     },
     "execution_count": 4,
     "metadata": {},
     "output_type": "execute_result"
    }
   ],
   "source": [
    "a.shape"
   ]
  },
  {
   "cell_type": "code",
   "execution_count": 5,
   "id": "646273d4",
   "metadata": {},
   "outputs": [
    {
     "data": {
      "text/plain": [
       "array([[10, 35, 45],\n",
       "       [50, 64, 80],\n",
       "       [20, 15, 19]])"
      ]
     },
     "execution_count": 5,
     "metadata": {},
     "output_type": "execute_result"
    }
   ],
   "source": [
    "b = np.array([[10,35,45],[50,64,80],[20,15,19]])\n",
    "b"
   ]
  },
  {
   "cell_type": "code",
   "execution_count": 12,
   "id": "cb68c94a",
   "metadata": {},
   "outputs": [
    {
     "data": {
      "text/plain": [
       "array([[0.18400832, 0.86087995, 0.60861663],\n",
       "       [0.15485552, 0.74332855, 0.12976155],\n",
       "       [0.90787143, 0.25142206, 0.51116902],\n",
       "       [0.10369982, 0.94334789, 0.1659129 ],\n",
       "       [0.31747444, 0.87767297, 0.87826988],\n",
       "       [0.36067466, 0.33486612, 0.04690967]])"
      ]
     },
     "execution_count": 12,
     "metadata": {},
     "output_type": "execute_result"
    }
   ],
   "source": [
    "np.random.rand(6,3)"
   ]
  },
  {
   "cell_type": "code",
   "execution_count": 15,
   "id": "78053e0c",
   "metadata": {},
   "outputs": [
    {
     "data": {
      "text/plain": [
       "array([[82, 58, 80, 66, 53],\n",
       "       [84, 62, 74, 90, 51],\n",
       "       [56, 51, 60, 88, 70],\n",
       "       [95, 80, 73, 54, 99]])"
      ]
     },
     "execution_count": 15,
     "metadata": {},
     "output_type": "execute_result"
    }
   ],
   "source": [
    "np.random.randint(50,100,size=(4,5))"
   ]
  },
  {
   "cell_type": "code",
   "execution_count": 16,
   "id": "40bf9e0d",
   "metadata": {},
   "outputs": [
    {
     "data": {
      "text/plain": [
       "array([[ 4,  6, 17, 15,  5],\n",
       "       [ 6,  1, 15,  4,  2],\n",
       "       [ 0, 17, 15,  7,  0],\n",
       "       [10, 14, 18, 10, 15]])"
      ]
     },
     "execution_count": 16,
     "metadata": {},
     "output_type": "execute_result"
    }
   ],
   "source": [
    "np.random.randint(20,size=(4,5))"
   ]
  },
  {
   "cell_type": "code",
   "execution_count": 18,
   "id": "4fd177cf",
   "metadata": {},
   "outputs": [
    {
     "data": {
      "text/plain": [
       "array([[1., 1., 1.],\n",
       "       [1., 1., 1.]])"
      ]
     },
     "execution_count": 18,
     "metadata": {},
     "output_type": "execute_result"
    }
   ],
   "source": [
    "np.ones([2,3])"
   ]
  },
  {
   "cell_type": "code",
   "execution_count": 19,
   "id": "bca7c201",
   "metadata": {},
   "outputs": [
    {
     "data": {
      "text/plain": [
       "array([[0., 0., 0., 0., 0.],\n",
       "       [0., 0., 0., 0., 0.],\n",
       "       [0., 0., 0., 0., 0.],\n",
       "       [0., 0., 0., 0., 0.]])"
      ]
     },
     "execution_count": 19,
     "metadata": {},
     "output_type": "execute_result"
    }
   ],
   "source": [
    "np.zeros([4,5])"
   ]
  },
  {
   "cell_type": "code",
   "execution_count": 20,
   "id": "c6628cb6",
   "metadata": {},
   "outputs": [
    {
     "data": {
      "text/plain": [
       "array([[0, 0],\n",
       "       [0, 0],\n",
       "       [0, 0]])"
      ]
     },
     "execution_count": 20,
     "metadata": {},
     "output_type": "execute_result"
    }
   ],
   "source": [
    "np.zeros([3,2],dtype='int')"
   ]
  },
  {
   "cell_type": "code",
   "execution_count": 22,
   "id": "1e35fc9c",
   "metadata": {},
   "outputs": [
    {
     "data": {
      "text/plain": [
       "array([[1., 0., 0., 0.],\n",
       "       [0., 1., 0., 0.],\n",
       "       [0., 0., 1., 0.],\n",
       "       [0., 0., 0., 1.]])"
      ]
     },
     "execution_count": 22,
     "metadata": {},
     "output_type": "execute_result"
    }
   ],
   "source": [
    "np.eye(4,4)"
   ]
  },
  {
   "cell_type": "code",
   "execution_count": 26,
   "id": "bd7774f1",
   "metadata": {},
   "outputs": [
    {
     "data": {
      "text/plain": [
       "array([[55, 87, 78, 11],\n",
       "       [57, 42, 52, 47],\n",
       "       [15, 92, 42, 33]])"
      ]
     },
     "execution_count": 26,
     "metadata": {},
     "output_type": "execute_result"
    }
   ],
   "source": [
    "a = np.random.randint(100,size=(3,4))\n",
    "a"
   ]
  },
  {
   "cell_type": "code",
   "execution_count": 27,
   "id": "cfebdc73",
   "metadata": {},
   "outputs": [
    {
     "data": {
      "text/plain": [
       "array([[55, 57, 15],\n",
       "       [87, 42, 92],\n",
       "       [78, 52, 42],\n",
       "       [11, 47, 33]])"
      ]
     },
     "execution_count": 27,
     "metadata": {},
     "output_type": "execute_result"
    }
   ],
   "source": [
    "np.transpose(a)"
   ]
  },
  {
   "cell_type": "code",
   "execution_count": 32,
   "id": "5729a880",
   "metadata": {},
   "outputs": [],
   "source": [
    "#We can *add, subtract* 2 matrix only when they have same shape. i.,e same rows and column"
   ]
  },
  {
   "cell_type": "code",
   "execution_count": 31,
   "id": "8ae80ef8",
   "metadata": {},
   "outputs": [
    {
     "name": "stdout",
     "output_type": "stream",
     "text": [
      "[[ 0  8  4]\n",
      " [ 9  5 10]]\n",
      "[[21 47  1]\n",
      " [36 29 12]]\n"
     ]
    },
    {
     "data": {
      "text/plain": [
       "array([[21, 55,  5],\n",
       "       [45, 34, 22]])"
      ]
     },
     "execution_count": 31,
     "metadata": {},
     "output_type": "execute_result"
    }
   ],
   "source": [
    "a =  np.random.randint(20,size=(2,3))\n",
    "b =  np.random.randint(50,size=(2,3))\n",
    "print(a)\n",
    "print(b)\n",
    "a+b"
   ]
  },
  {
   "cell_type": "code",
   "execution_count": 33,
   "id": "7e8ebd3b",
   "metadata": {},
   "outputs": [
    {
     "data": {
      "text/plain": [
       "array([[-21, -39,   3],\n",
       "       [-27, -24,  -2]])"
      ]
     },
     "execution_count": 33,
     "metadata": {},
     "output_type": "execute_result"
    }
   ],
   "source": [
    "a-b"
   ]
  },
  {
   "cell_type": "markdown",
   "id": "46b5bee1",
   "metadata": {},
   "source": [
    "#Multiplication of matrix"
   ]
  },
  {
   "cell_type": "code",
   "execution_count": 35,
   "id": "7265f8f8",
   "metadata": {},
   "outputs": [],
   "source": [
    "#No Of columns in the first matrix is equal to no of rows in the second matrix"
   ]
  },
  {
   "cell_type": "code",
   "execution_count": null,
   "id": "7497ac96",
   "metadata": {},
   "outputs": [],
   "source": [
    "2 x 2 & 2 x 2 -- can be multiplied\n",
    "2 x 3 & 3 x 2 -- can be multiplied"
   ]
  },
  {
   "attachments": {
    "image.png": {
     "image/png": "[encoded data removed]"
    }
   },
   "cell_type": "markdown",
   "id": "a8340dcf",
   "metadata": {},
   "source": [
    "![image.png](attachment:image.png)"
   ]
  },
  {
   "cell_type": "code",
   "execution_count": 37,
   "id": "48444d11",
   "metadata": {},
   "outputs": [
    {
     "data": {
      "text/plain": [
       "array([[2, 3],\n",
       "       [4, 5]])"
      ]
     },
     "execution_count": 37,
     "metadata": {},
     "output_type": "execute_result"
    }
   ],
   "source": [
    "a = np.array([[2,3],[4,5]])\n",
    "a"
   ]
  },
  {
   "cell_type": "code",
   "execution_count": 38,
   "id": "e6efb367",
   "metadata": {},
   "outputs": [
    {
     "data": {
      "text/plain": [
       "array([[6, 7],\n",
       "       [8, 9]])"
      ]
     },
     "execution_count": 38,
     "metadata": {},
     "output_type": "execute_result"
    }
   ],
   "source": [
    "b = np.array([[6,7],[8,9]])\n",
    "b"
   ]
  },
  {
   "cell_type": "code",
   "execution_count": 39,
   "id": "b0fb8311",
   "metadata": {},
   "outputs": [
    {
     "data": {
      "text/plain": [
       "array([[ 8, 10],\n",
       "       [12, 14]])"
      ]
     },
     "execution_count": 39,
     "metadata": {},
     "output_type": "execute_result"
    }
   ],
   "source": [
    "a+b"
   ]
  },
  {
   "cell_type": "code",
   "execution_count": 40,
   "id": "274379cd",
   "metadata": {},
   "outputs": [
    {
     "data": {
      "text/plain": [
       "array([[12, 21],\n",
       "       [32, 45]])"
      ]
     },
     "execution_count": 40,
     "metadata": {},
     "output_type": "execute_result"
    }
   ],
   "source": [
    "a*b"
   ]
  },
  {
   "cell_type": "code",
   "execution_count": 46,
   "id": "c13161b4",
   "metadata": {},
   "outputs": [
    {
     "name": "stdout",
     "output_type": "stream",
     "text": [
      "[[28 44 73 25]\n",
      " [85 93 23 63]\n",
      " [56 65 65 23]]\n",
      "[[59 11 24 68]\n",
      " [27 67 68 77]\n",
      " [51 59 33 89]]\n"
     ]
    }
   ],
   "source": [
    "a = np.random.randint(100,size=(3,4))\n",
    "b = np.random.randint(100,size=(3,4))\n",
    "print(a)\n",
    "print(b)"
   ]
  },
  {
   "cell_type": "code",
   "execution_count": 47,
   "id": "aecd3000",
   "metadata": {},
   "outputs": [
    {
     "data": {
      "text/plain": [
       "array([[ 87,  55,  97,  93],\n",
       "       [112, 160,  91, 140],\n",
       "       [107, 124,  98, 112]])"
      ]
     },
     "execution_count": 47,
     "metadata": {},
     "output_type": "execute_result"
    }
   ],
   "source": [
    "np.add(a,b)"
   ]
  },
  {
   "cell_type": "code",
   "execution_count": 48,
   "id": "39490062",
   "metadata": {},
   "outputs": [
    {
     "data": {
      "text/plain": [
       "array([[-31,  33,  49, -43],\n",
       "       [ 58,  26, -45, -14],\n",
       "       [  5,   6,  32, -66]])"
      ]
     },
     "execution_count": 48,
     "metadata": {},
     "output_type": "execute_result"
    }
   ],
   "source": [
    "np.subtract(a,b)"
   ]
  },
  {
   "cell_type": "code",
   "execution_count": 54,
   "id": "6314ba91",
   "metadata": {},
   "outputs": [
    {
     "name": "stdout",
     "output_type": "stream",
     "text": [
      "[[0 7]\n",
      " [7 5]]\n",
      "[[1 3]\n",
      " [4 4]]\n"
     ]
    }
   ],
   "source": [
    "a = np.random.randint(10,size=(2,2))\n",
    "b = np.random.randint(10,size=(2,2))\n",
    "print(a)\n",
    "print(b)"
   ]
  },
  {
   "cell_type": "code",
   "execution_count": 55,
   "id": "1847523b",
   "metadata": {},
   "outputs": [
    {
     "data": {
      "text/plain": [
       "array([[28, 28],\n",
       "       [27, 41]])"
      ]
     },
     "execution_count": 55,
     "metadata": {},
     "output_type": "execute_result"
    }
   ],
   "source": [
    "np.dot(a,b)"
   ]
  },
  {
   "cell_type": "code",
   "execution_count": null,
   "id": "175315f2",
   "metadata": {},
   "outputs": [],
   "source": []
  }
 ],
 "metadata": {
  "kernelspec": {
   "display_name": "Python 3 (ipykernel)",
   "language": "python",
   "name": "python3"
  },
  "language_info": {
   "codemirror_mode": {
    "name": "ipython",
    "version": 3
   },
   "file_extension": ".py",
   "mimetype": "text/x-python",
   "name": "python",
   "nbconvert_exporter": "python",
   "pygments_lexer": "ipython3",
   "version": "3.9.13"
  }
 },
 "nbformat": 4,
 "nbformat_minor": 5
}
